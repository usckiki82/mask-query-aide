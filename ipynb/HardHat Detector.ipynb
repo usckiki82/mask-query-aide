{
 "cells": [
  {
   "cell_type": "markdown",
   "metadata": {},
   "source": [
    "# Hard Hat Detector"
   ]
  },
  {
   "cell_type": "code",
   "execution_count": 1,
   "metadata": {},
   "outputs": [
    {
     "name": "stderr",
     "output_type": "stream",
     "text": [
      "Using TensorFlow backend.\n"
     ]
    },
    {
     "data": {
      "text/plain": [
       "<function tensorflow.python.keras.backend.set_session(session)>"
      ]
     },
     "execution_count": 1,
     "metadata": {},
     "output_type": "execute_result"
    }
   ],
   "source": [
    "%matplotlib inline\n",
    "%load_ext autoreload\n",
    "import cv2 as cv\n",
    "from imageai.Detection import ObjectDetection # as od\n",
    "# from keras import backend as K\n",
    "from tensorflow.python.keras import backend as K\n",
    "\n",
    "import numpy as np\n",
    "import requests as req\n",
    "import os as os\n",
    "\n",
    "K.set_session"
   ]
  },
  {
   "cell_type": "markdown",
   "metadata": {},
   "source": [
    "## Training Images"
   ]
  },
  {
   "cell_type": "code",
   "execution_count": 2,
   "metadata": {},
   "outputs": [],
   "source": [
    "url = 'https://p7.hiclipart.com/preview/124/937/193/architectural-engineering-engineer.jpg'\n",
    "r = req.get(url)\n",
    "with open('testimage.jpg', 'wb') as outfile:\n",
    "    outfile.write(r.content)"
   ]
  },
  {
   "cell_type": "code",
   "execution_count": 3,
   "metadata": {},
   "outputs": [],
   "source": [
    "def showImage(img):\n",
    "    window_name = 'image'\n",
    "    cv.imshow(window_name, img)\n",
    "    cv.waitKey(0)\n",
    "    cv.destroyAllWindows()"
   ]
  },
  {
   "cell_type": "code",
   "execution_count": null,
   "metadata": {},
   "outputs": [],
   "source": [
    "img = cv.imread('testimage.jpg')\n",
    "showImage(img)"
   ]
  },
  {
   "cell_type": "markdown",
   "metadata": {},
   "source": [
    "### Using this http://www.image-net.org/api/text/imagenet.synset.geturls?wnid=<WordNet ID>\n",
    "    WordNet nouns: the hardhat noun (as mentioned above) with ID n03492922; and the misc -> people noun with ID n07942152"
   ]
  },
  {
   "cell_type": "code",
   "execution_count": null,
   "metadata": {},
   "outputs": [],
   "source": [
    "hardhat_id = 'n03492922'\n",
    "hardhatLoc = f'http://www.image-net.org/api/text/imagenet.synset.geturls?wnid={hardhat_id}'\n",
    "\n",
    "hardhatImages = req.get(hardhatLoc).text\n",
    "noOfImages = 0\n",
    "\n",
    "if not os.path.exists('hardhat'):\n",
    "    os.makedirs('hardhat')\n",
    "\n",
    "for i in hardhatImages.split('\\n'):\n",
    "    try:\n",
    "        r = req.get(i, timeout=0.5)\n",
    "        file = i.split(\"/\")[-1].split('\\r')[0]\n",
    "        if 'image/jpeg' in r.headers['Content-Type']:\n",
    "            if len(r.content) > 8192:\n",
    "                with open('hardhat\\\\' + file, 'wb') as outfile:\n",
    "                    outfile.write(r.content)\n",
    "                    noOfImages += 1\n",
    "                    print('Success: ' + file)\n",
    "            else:\n",
    "                print('Failed: ' + file + ' -- Image too small')\n",
    "        else:\n",
    "            print('Failed: ' + file + ' -- Not an image')\n",
    "\n",
    "    except Exception as e:\n",
    "        print('Failed: ' + file + ' -- Error')\n",
    "        \n",
    "print('*********** Download Finished **************')"
   ]
  },
  {
   "cell_type": "code",
   "execution_count": null,
   "metadata": {},
   "outputs": [],
   "source": [
    "peopleLoc = 'http://www.image-net.org/api/text/imagenet.synset.geturls?wnid=n07942152'\n",
    "\n",
    "peopleImages = req.get(peopleLoc).text\n",
    "noOfImages = 0\n",
    "\n",
    "if not os.path.exists('people'):\n",
    "    os.makedirs('people')\n",
    "\n",
    "for i in peopleImages.split('\\n'):\n",
    "    try:\n",
    "        r = req.get(i, timeout=0.5)\n",
    "        file = i.split(\"/\")[-1].split('\\r')[0]\n",
    "        if 'image/jpeg' in r.headers['Content-Type']:\n",
    "            if len(r.content) > 8192:\n",
    "                with open('people\\\\' + file, 'wb') as outfile:\n",
    "                    outfile.write(r.content)\n",
    "                    noOfImages += 1\n",
    "                    print('Success: ' + file)\n",
    "            else:\n",
    "                print('Failed: ' + file + ' -- Image too small')\n",
    "        else:\n",
    "            print('Failed: ' + file + ' -- Not an image')\n",
    "\n",
    "    except Exception as e:\n",
    "        print('Failed: ' + file + ' -- Error')\n",
    "        \n",
    "print('*********** Download Finished **************')"
   ]
  },
  {
   "cell_type": "markdown",
   "metadata": {},
   "source": [
    "## Download Model"
   ]
  },
  {
   "cell_type": "code",
   "execution_count": null,
   "metadata": {},
   "outputs": [],
   "source": [
    "modelRetinaNet = 'https://github.com/OlafenwaMoses/ImageAI/releases/download/1.0/resnet50_coco_best_v2.0.1.h5'\n",
    "modelYOLOv3 = 'https://github.com/OlafenwaMoses/ImageAI/releases/download/1.0/yolo.h5'\n",
    "modelTinyYOLOv3 = 'https://github.com/OlafenwaMoses/ImageAI/releases/download/1.0/yolo-tiny.h5'\n",
    "\n",
    "if not os.path.exists('yolo.h5'):\n",
    "    r = req.get(modelYOLOv3, timeout=0.5)\n",
    "    with open('yolo.h5', 'wb') as outfile:\n",
    "        outfile.write(r.content)"
   ]
  },
  {
   "cell_type": "code",
   "execution_count": null,
   "metadata": {},
   "outputs": [],
   "source": [
    "detector = ObjectDetection()\n",
    "detector.setModelTypeAsYOLOv3()\n",
    "detector.setModelPath('yolo.h5')\n",
    "detector.loadModel(detection_speed=\"fast\")"
   ]
  },
  {
   "cell_type": "markdown",
   "metadata": {},
   "source": [
    "## People Detection"
   ]
  },
  {
   "cell_type": "code",
   "execution_count": null,
   "metadata": {},
   "outputs": [],
   "source": [
    "import random\n",
    "peopleImages = os.listdir(\"people\")\n",
    "randomFile = peopleImages[random.randint(0, len(peopleImages) - 1)]\n",
    "\n",
    "detectedImage, detections = detector.detectObjectsFromImage(output_type=\"array\", input_image=\"people/{0}\".format(randomFile), minimum_percentage_probability=30)\n",
    "convertedImage = cv.cvtColor(detectedImage, cv.COLOR_RGB2BGR)\n",
    "showImage(convertedImage)\n",
    "\n",
    "for eachObject in detections:\n",
    "    print(eachObject[\"name\"] , \" : \", eachObject[\"percentage_probability\"], \" : \", eachObject[\"box_points\"] )\n",
    "    print(\"--------------------------------\")"
   ]
  },
  {
   "cell_type": "code",
   "execution_count": null,
   "metadata": {},
   "outputs": [],
   "source": [
    "peopleOnly = detector.CustomObjects(person=True)\n",
    "detectedImage, detections = detector.detectCustomObjectsFromImage(custom_objects=peopleOnly, output_type=\"array\", input_image=\"people/{0}\".format(randomFile), minimum_percentage_probability=30)\n",
    "convertedImage = cv.cvtColor(detectedImage, cv.COLOR_RGB2BGR)\n",
    "showImage(convertedImage)"
   ]
  }
 ],
 "metadata": {
  "kernelspec": {
   "display_name": "Python 3",
   "language": "python",
   "name": "python3"
  },
  "language_info": {
   "codemirror_mode": {
    "name": "ipython",
    "version": 3
   },
   "file_extension": ".py",
   "mimetype": "text/x-python",
   "name": "python",
   "nbconvert_exporter": "python",
   "pygments_lexer": "ipython3",
   "version": "3.6.9"
  }
 },
 "nbformat": 4,
 "nbformat_minor": 4
}

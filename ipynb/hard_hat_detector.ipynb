version https://git-lfs.github.com/spec/v1
oid sha256:586c98c11c753b23864bcb5494b778d6322fbdc62b4d09aaa87ee1d9c7c96d24
size 578546
